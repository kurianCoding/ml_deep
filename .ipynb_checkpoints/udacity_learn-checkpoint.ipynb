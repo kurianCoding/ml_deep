{
 "cells": [
  {
   "cell_type": "code",
   "execution_count": 2,
   "metadata": {},
   "outputs": [],
   "source": [
    "from __future__ import print_function\n",
    "import imageio\n",
    "import matplotlib.pyplot as plt\n",
    "import numpy as np\n",
    "import os\n",
    "import sys\n",
    "import tarfile\n",
    "from IPython.display import display,Image\n",
    "from sklearn.linear_model import LogisticRegression\n",
    "from six.moves.urllib.request import urlretrieve\n",
    "from six.moves import cPickle as pickle\n",
    "%matplotlib inline"
   ]
  },
  {
   "cell_type": "code",
   "execution_count": 6,
   "metadata": {},
   "outputs": [
    {
     "name": "stdout",
     "output_type": "stream",
     "text": [
      "0%....5%....10%....15%....20%....25%....30%....35%....40%....45%....50%....55%....60%....65%....70%....75%....80%....85%....90%....95%....100%\n",
      "Download Complete\n",
      "verified ./notMNIST_large.tar.gz\n",
      "0%....5%....10%....15%....20%....25%....30%....35%....40%....45%....50%....55%....60%....65%....70%....75%....80%....85%....90%....95%....100%\n",
      "Download Complete\n",
      "verified ./notMNIST_small.tar.gz\n"
     ]
    }
   ],
   "source": [
    "url = 'https://commondatastorage.googleapis.com/books1000/'\n",
    "last_percent_reported=None\n",
    "data_root='.'\n",
    "def download_progress_hook(count,blockSize,totalSize):\n",
    "    global last_percent_reported\n",
    "    percent=int((count*blockSize*100)/totalSize)\n",
    "    if last_percent_reported!=percent:\n",
    "        if percent%5==0:\n",
    "            sys.stdout.write(\"%s%%\" % percent)\n",
    "            sys.stdout.flush()\n",
    "        else:\n",
    "            sys.stdout.write(\".\")\n",
    "            sys.stdout.flush()\n",
    "        \n",
    "        last_percent_reported=percent\n",
    "def maybe_download(filename,expected_bytes,force=False):\n",
    "    dest_filename=os.path.join(data_root,filename)\n",
    "    if force or not os.path.exists(dest_filename):\n",
    "        filename,_=urlretrieve(url+filename,dest_filename,reporthook=download_progress_hook)\n",
    "        print('\\nDownload Complete')\n",
    "        statinfo=os.stat(dest_filename)\n",
    "        if statinfo.st_size==expected_bytes:\n",
    "            print('verified '+dest_filename)\n",
    "        else:\n",
    "            raise Exception('verification failed for '+dest_filename)\n",
    "        \n",
    "    return dest_filename\n",
    "train_filename = maybe_download('notMNIST_large.tar.gz', 247336696)\n",
    "test_filename = maybe_download('notMNIST_small.tar.gz', 8458043) "
   ]
  },
  {
   "cell_type": "code",
   "execution_count": 8,
   "metadata": {},
   "outputs": [
    {
     "name": "stdout",
     "output_type": "stream",
     "text": [
      "./notMNIST_large file exists skipping extraction of ./notMNIST_large.tar.gz\n",
      "['./notMNIST_large/A', './notMNIST_large/B', './notMNIST_large/C', './notMNIST_large/D', './notMNIST_large/E', './notMNIST_large/F', './notMNIST_large/G', './notMNIST_large/H', './notMNIST_large/I', './notMNIST_large/J']\n",
      "./notMNIST_small file exists skipping extraction of ./notMNIST_small.tar.gz\n",
      "['./notMNIST_small/A', './notMNIST_small/B', './notMNIST_small/C', './notMNIST_small/D', './notMNIST_small/E', './notMNIST_small/F', './notMNIST_small/G', './notMNIST_small/H', './notMNIST_small/I', './notMNIST_small/J']\n"
     ]
    }
   ],
   "source": [
    "num_classes=10\n",
    "def maybe_extract(filename,force=False):\n",
    "    root=os.path.splitext(os.path.splitext(filename)[0])[0]\n",
    "    if os.path.isdir(root) and not force:\n",
    "        print('%s file exists skipping extraction of %s'%(root,filename))\n",
    "    else:\n",
    "        tar=tarfile.open(filename)\n",
    "        sys.stdout.flush()\n",
    "        tar.extractall(data_root)\n",
    "        tar.close()\n",
    "        \n",
    "    data_folders=[os.path.join(root,d) for d in sorted(os.listdir(root)) if os.path.isdir(os.path.join(root,d))]\n",
    "    if len(data_folders)!=num_classes:\n",
    "        raise Exception(\"expected %d folders but found %d\"%(num_classes,len(data_folders)))\n",
    "    \n",
    "\n",
    "    print (data_folders)\n",
    "    \n",
    "    return data_folders\n",
    "#print (train_filename)\n",
    "train_folders=maybe_extract(train_filename)\n",
    "test_folders=maybe_extract(test_filename)"
   ]
  },
  {
   "cell_type": "code",
   "execution_count": 11,
   "metadata": {},
   "outputs": [],
   "source": [
    "image_size=28\n",
    "pixel_depth=255\n",
    "def load_letter(folder, minimum_number_of_images):\n",
    "    image_files=os.list_dir(folder)\n",
    "    dataset=np.ndarray(len(image_files),image_size,image_size,dtyp=np.float32)\n",
    "    print(folder)\n",
    "    num_images=0\n",
    "    for image in image_files:\n",
    "        image_file=os.path.join(folder,image)\n",
    "        try:\n",
    "            image_data=(imageio.imread(image_file).astype(float)-pixel_depth/2)/pixel_depth\n",
    "            if image_data.shape!=(image_size,image_size):\n",
    "                raise Exception(\"Unexpected Image shape%s\",str(image_data.shape))\n",
    "            \n",
    "            dataset[num_images,:,:]=image_data\n",
    "            num_images=num_images+1\n",
    "            \n",
    "        except(IOError,ValueError) as e:\n",
    "            print(\"some problme in reading the image\",image_file,\" skipping \",e)\n",
    "        \n",
    "        dataset=dataset[0:num_images,:,:]\n",
    "        \n",
    "        if num_images<min_num_images:\n",
    "            raise Exception(\"expected %d got only %d images\"%(min_num_images,num_images))\n",
    "        \n",
    "        print(\"mean \",np.mean(dataset))\n",
    "        print(\"standard deviation\",np.std(dataset))\n",
    "        return dataset\n"
   ]
  },
  {
   "cell_type": "code",
   "execution_count": null,
   "metadata": {},
   "outputs": [],
   "source": []
  }
 ],
 "metadata": {
  "kernelspec": {
   "display_name": "Python 2",
   "language": "python",
   "name": "python2"
  },
  "language_info": {
   "codemirror_mode": {
    "name": "ipython",
    "version": 2
   },
   "file_extension": ".py",
   "mimetype": "text/x-python",
   "name": "python",
   "nbconvert_exporter": "python",
   "pygments_lexer": "ipython2",
   "version": "2.7.5"
  }
 },
 "nbformat": 4,
 "nbformat_minor": 2
}
