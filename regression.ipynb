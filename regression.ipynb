{
 "cells": [
  {
   "cell_type": "markdown",
   "metadata": {},
   "source": [
    "# Regression\n",
    "\n",
    "when two functions closely follow each other, i.e. the rise of one follows the rise of the other. Then a we use regression to find the match similarity between them."
   ]
  },
  {
   "cell_type": "code",
   "execution_count": 3,
   "metadata": {},
   "outputs": [],
   "source": [
    "%matplotlib inline"
   ]
  },
  {
   "cell_type": "code",
   "execution_count": 4,
   "metadata": {},
   "outputs": [],
   "source": [
    "import graphlab"
   ]
  },
  {
   "cell_type": "code",
   "execution_count": 5,
   "metadata": {},
   "outputs": [
    {
     "name": "stdout",
     "output_type": "stream",
     "text": [
      "This non-commercial license of GraphLab Create for academic use is assigned to kurianck.mail@gmail.com and will expire on March 07, 2019.\n"
     ]
    },
    {
     "name": "stderr",
     "output_type": "stream",
     "text": [
      "[INFO] graphlab.cython.cy_server: GraphLab Create v2.1 started. Logging: /tmp/graphlab_server_1522557637.log\n"
     ]
    }
   ],
   "source": [
    "sales=graphlab.SFrame('kc_house_data.gl/')\n"
   ]
  },
  {
   "cell_type": "markdown",
   "metadata": {
    "collapsed": true
   },
   "source": [
    "we will use this data to plot a linear regression. That means, we will arrive at the slope and y intercept of a line\n",
    "which will be most accurate representation for the distribution of data."
   ]
  },
  {
   "cell_type": "code",
   "execution_count": 6,
   "metadata": {},
   "outputs": [],
   "source": [
    "import matplotlib.pyplot as plt"
   ]
  },
  {
   "cell_type": "code",
   "execution_count": 7,
   "metadata": {},
   "outputs": [],
   "source": [
    "a=[]\n",
    "b=[]"
   ]
  },
  {
   "cell_type": "code",
   "execution_count": 8,
   "metadata": {},
   "outputs": [],
   "source": [
    "for entry in sales:\n",
    "    a.append(entry['grade'])\n",
    "    b.append(entry['price'])"
   ]
  },
  {
   "cell_type": "code",
   "execution_count": 9,
   "metadata": {},
   "outputs": [
    {
     "data": {
      "image/png": "[encoded data removed]",
      "text/plain": [
       "<matplotlib.figure.Figure at 0x10de48dd0>"
      ]
     },
     "metadata": {},
     "output_type": "display_data"
    }
   ],
   "source": [
    "plt.scatter(b,a)\n",
    "plt.show()"
   ]
  },
  {
   "cell_type": "markdown",
   "metadata": {},
   "source": [
    "as we can see the price per sq m is closely correlated with grade."
   ]
  },
  {
   "cell_type": "code",
   "execution_count": 10,
   "metadata": {},
   "outputs": [
    {
     "name": "stdout",
     "output_type": "stream",
     "text": [
      "PROGRESS: Creating a validation set from 5 percent of training data. This may take a while.\n",
      "          You can set ``validation_set=None`` to disable validation tracking.\n",
      "\n"
     ]
    },
    {
     "data": {
      "text/html": [
       "<pre>Linear regression:</pre>"
      ],
      "text/plain": [
       "Linear regression:"
      ]
     },
     "metadata": {},
     "output_type": "display_data"
    },
    {
     "data": {
      "text/html": [
       "<pre>--------------------------------------------------------</pre>"
      ],
      "text/plain": [
       "--------------------------------------------------------"
      ]
     },
     "metadata": {},
     "output_type": "display_data"
    },
    {
     "data": {
      "text/html": [
       "<pre>Number of examples          : 20464</pre>"
      ],
      "text/plain": [
       "Number of examples          : 20464"
      ]
     },
     "metadata": {},
     "output_type": "display_data"
    },
    {
     "data": {
      "text/html": [
       "<pre>Number of features          : 1</pre>"
      ],
      "text/plain": [
       "Number of features          : 1"
      ]
     },
     "metadata": {},
     "output_type": "display_data"
    },
    {
     "data": {
      "text/html": [
       "<pre>Number of unpacked features : 1</pre>"
      ],
      "text/plain": [
       "Number of unpacked features : 1"
      ]
     },
     "metadata": {},
     "output_type": "display_data"
    },
    {
     "data": {
      "text/html": [
       "<pre>Number of coefficients    : 2</pre>"
      ],
      "text/plain": [
       "Number of coefficients    : 2"
      ]
     },
     "metadata": {},
     "output_type": "display_data"
    },
    {
     "data": {
      "text/html": [
       "<pre>Starting Newton Method</pre>"
      ],
      "text/plain": [
       "Starting Newton Method"
      ]
     },
     "metadata": {},
     "output_type": "display_data"
    },
    {
     "data": {
      "text/html": [
       "<pre>--------------------------------------------------------</pre>"
      ],
      "text/plain": [
       "--------------------------------------------------------"
      ]
     },
     "metadata": {},
     "output_type": "display_data"
    },
    {
     "data": {
      "text/html": [
       "<pre>+-----------+----------+--------------+--------------------+----------------------+---------------+-----------------+</pre>"
      ],
      "text/plain": [
       "+-----------+----------+--------------+--------------------+----------------------+---------------+-----------------+"
      ]
     },
     "metadata": {},
     "output_type": "display_data"
    },
    {
     "data": {
      "text/html": [
       "<pre>| Iteration | Passes   | Elapsed Time | Training-max_error | Validation-max_error | Training-rmse | Validation-rmse |</pre>"
      ],
      "text/plain": [
       "| Iteration | Passes   | Elapsed Time | Training-max_error | Validation-max_error | Training-rmse | Validation-rmse |"
      ]
     },
     "metadata": {},
     "output_type": "display_data"
    },
    {
     "data": {
      "text/html": [
       "<pre>+-----------+----------+--------------+--------------------+----------------------+---------------+-----------------+</pre>"
      ],
      "text/plain": [
       "+-----------+----------+--------------+--------------------+----------------------+---------------+-----------------+"
      ]
     },
     "metadata": {},
     "output_type": "display_data"
    },
    {
     "data": {
      "text/html": [
       "<pre>| 1         | 2        | 1.036014     | 6045830.718557     | 3665140.534076       | 273738.042308 | 266957.897059   |</pre>"
      ],
      "text/plain": [
       "| 1         | 2        | 1.036014     | 6045830.718557     | 3665140.534076       | 273738.042308 | 266957.897059   |"
      ]
     },
     "metadata": {},
     "output_type": "display_data"
    },
    {
     "data": {
      "text/html": [
       "<pre>+-----------+----------+--------------+--------------------+----------------------+---------------+-----------------+</pre>"
      ],
      "text/plain": [
       "+-----------+----------+--------------+--------------------+----------------------+---------------+-----------------+"
      ]
     },
     "metadata": {},
     "output_type": "display_data"
    },
    {
     "data": {
      "text/html": [
       "<pre>SUCCESS: Optimal solution found.</pre>"
      ],
      "text/plain": [
       "SUCCESS: Optimal solution found."
      ]
     },
     "metadata": {},
     "output_type": "display_data"
    }
   ],
   "source": [
    "model= graphlab.linear_regression.create(sales,target='price',features=['grade'])"
   ]
  },
  {
   "cell_type": "code",
   "execution_count": 11,
   "metadata": {},
   "outputs": [
    {
     "data": {
      "text/html": [
       "<pre></pre>"
      ],
      "text/plain": []
     },
     "metadata": {},
     "output_type": "display_data"
    }
   ],
   "source": [
    "result=model.evaluate(sales)"
   ]
  },
  {
   "cell_type": "code",
   "execution_count": 12,
   "metadata": {},
   "outputs": [
    {
     "name": "stdout",
     "output_type": "stream",
     "text": [
      "{'max_error': 6045830.718556818, 'rmse': 273381.825346412}\n"
     ]
    }
   ],
   "source": [
    "print result"
   ]
  },
  {
   "cell_type": "code",
   "execution_count": 13,
   "metadata": {},
   "outputs": [],
   "source": [
    "coeff=model['coefficients']"
   ]
  },
  {
   "cell_type": "code",
   "execution_count": 14,
   "metadata": {},
   "outputs": [
    {
     "name": "stdout",
     "output_type": "stream",
     "text": [
      "+-------------+-------+----------------+---------------+\n",
      "|     name    | index |     value      |     stderr    |\n",
      "+-------------+-------+----------------+---------------+\n",
      "| (intercept) |  None | -1056458.32031 | 12595.2575714 |\n",
      "|    grade    |  None | 208509.815519  | 1625.42067617 |\n",
      "+-------------+-------+----------------+---------------+\n",
      "[2 rows x 4 columns]\n",
      "\n"
     ]
    }
   ],
   "source": [
    "print coeff"
   ]
  },
  {
   "cell_type": "code",
   "execution_count": 31,
   "metadata": {},
   "outputs": [
    {
     "data": {
      "image/png": "[encoded data removed]",
      "text/plain": [
       "<matplotlib.figure.Figure at 0x110170ed0>"
      ]
     },
     "metadata": {},
     "output_type": "display_data"
    }
   ],
   "source": [
    "pred_slope=coeff['value'][1]\n",
    "pred_inter=coeff['value'][0]\n",
    "\n",
    "pred_values=[i*pred_slope +pred_inter for i in a]\n",
    "plt.plot(pred_values,a,c='green')\n",
    "plt.scatter(b,a,c='red')\n",
    "\n",
    "plt.show()"
   ]
  },
  {
   "cell_type": "markdown",
   "metadata": {
    "collapsed": true
   },
   "source": [
    "# Function to find Linear regression\n",
    "\n",
    "here we will write a function to find the slope and intercept of the line which will represent the relation ship\n",
    "between a group of points. Before we do that we need to know the underlying relation ship between the data set and\n",
    "the regression coefficients.\n",
    "\n",
    "\\begin{align}\n",
    "    y_{i} = intercept+slope* x_{i} + \\varepsilon_{i}\n",
    "\\end{align}\n",
    "Here $\\varepsilon_{i}$ is the error in estimated value $\\hat{y}_{i}$ and real value. The best estimate. \n",
    "\\begin{align}\n",
    "    \\varepsilon_{i}= (intercept+x_{i}*slope)-y_{i}\n",
    "\\end{align}\n",
    "we define a perfomance function, $h(\\epsilon_{i})=\\sum^{i=n}_{i=0} \\varepsilon_{i}^{2}$, since a good fit(between the unknown function and our regression line) would mean error equals zero, that is our objective with this perfomance function too. We have derived that at optimal level this would mean.\n",
    "\n",
    "\\begin{align}\n",
    "   slope & =\\frac{\\sigma^2_{xy}}{\\sigma^2_{x}} \\\\\n",
    "   intercept & =mean(y)+slope*mean(x)\n",
    "\\end{align}\n",
    "\n",
    "Here $\\sigma_{xy}$ is the cross deviation between x and y, and $\\sigma_{x}$ is the standard deviation. We will now write a code that will calculate this and return the answer."
   ]
  },
  {
   "cell_type": "code",
   "execution_count": 33,
   "metadata": {},
   "outputs": [],
   "source": [
    "import numpy as np\n",
    "def linear_regression(data,target):\n",
    "    mean_x=np.sum(data)/np.size(data)\n",
    "    mean_y=np.sum(target)/np.size(target)\n",
    "    sum_x_sq=np.sum(data**2)\n",
    "    sum_y_sq=np.sum(target**2)\n",
    "    sum_xy=np.sum(data*target)\n",
    "    deviation_sq=0\n",
    "    for number in data:\n",
    "        deviation_sq=deviation_sq+(mean_x-number)**2\n",
    "        \n",
    "    cross_deviation_sq=0\n",
    "    \n",
    "    for i in range(len(target)):\n",
    "        cross_deviation_sq=cross_deviation_sq+(mean_y-target[i])*(mean_x-data[i])\n",
    "    \n",
    "    slope=cross_deviation_sq/deviation_sq\n",
    "    intercept=mean_y+slope*mean_x\n",
    "    return (slope,intercept)"
   ]
  },
  {
   "cell_type": "code",
   "execution_count": 34,
   "metadata": {},
   "outputs": [],
   "source": [
    "mod_data=np.array(a)\n",
    "mod_target=np.array(b)\n",
    "\n",
    "calculated_slope,calculated_intercept=linear_regression(mod_data,mod_target)"
   ]
  },
  {
   "cell_type": "code",
   "execution_count": 35,
   "metadata": {},
   "outputs": [],
   "source": [
    "predicted_y=[calculated_slope*i + calculated_intercept for i in a ]"
   ]
  },
  {
   "cell_type": "code",
   "execution_count": 36,
   "metadata": {},
   "outputs": [
    {
     "data": {
      "image/png": "[encoded data removed]",
      "text/plain": [
       "<matplotlib.figure.Figure at 0x118706fd0>"
      ]
     },
     "metadata": {},
     "output_type": "display_data"
    }
   ],
   "source": [
    "plt.plot(predicted_y,a)\n",
    "plt.scatter(b,a,c='red')\n",
    "\n",
    "plt.show()"
   ]
  },
  {
   "cell_type": "code",
   "execution_count": null,
   "metadata": {},
   "outputs": [],
   "source": []
  }
 ],
 "metadata": {
  "kernelspec": {
   "display_name": "Python 2",
   "language": "python",
   "name": "python2"
  },
  "language_info": {
   "codemirror_mode": {
    "name": "ipython",
    "version": 2
   },
   "file_extension": ".py",
   "mimetype": "text/x-python",
   "name": "python",
   "nbconvert_exporter": "python",
   "pygments_lexer": "ipython2",
   "version": "2.7.5"
  }
 },
 "nbformat": 4,
 "nbformat_minor": 2
}
